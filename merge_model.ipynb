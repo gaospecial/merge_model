{
 "cells": [
  {
   "cell_type": "markdown",
   "id": "b7dd0d1b",
   "metadata": {},
   "source": [
    "## 配置环境\n",
    "\n",
    "运行下列命令配置一个名称为 `cobra` 的 Conda 环境，并在其中安装需要运行的软件或模块。\n",
    "`cometspy` 就是 COMETS 的 Python 版本。\n",
    "\n",
    "\n",
    "> **关于 COMETS**\n",
    ">\n",
    "> COMETS - Computation Of Microbial Ecosystems in Time and Space.\n",
    ">\n",
    "> COMETS is a software platform for performing computer simulations of spatially structured microbial communities. It is based on stoichiometric modeling of the genome-scale metabolic network of individual microbial species using dynamic flux balance analysis, and on a discrete approximation of diffusion. For more information, see Harcombe et al., Metabolic Resource Allocation in Individual Microbes Determines Ecosystem Interactions and Spatial Dynamics, Cell Reports, 2014.\n",
    "> \n",
    "> COMETS is built and maintained by the Daniel Segre Lab at Boston University.\n",
    "\n",
    "```bash\n",
    "conda create -n cobra\n",
    "conda activate cobra\n",
    "conda install matplotlib\n",
    "pip install cometspy\n",
    "```\n",
    "\n",
    "在运行 Jupyter Notebook 时，使用该 Conda 环境作为解释器。\n",
    "\n",
    "Prerequisites for COMETS installation are to have Java 64-bit and Gurobi installed.\n",
    "\n",
    "* Java can be downloaded and installed from: https://www.oracle.com/technetwork/java/javase/downloads/index.html or https://java.com/en/download/manual.jsp. The minimum version of   required 64-bit Java is 1.8.\n",
    "* Gurobi can be downloaded and installed from: http://www.gurobi.com/downloads/gurobi-optimizer-eula/. The installation of Gurobi requires obtaining a license. Free academic license can be obtained from:  https://www.gurobi.com/downloads/end-user-license-agreement-academic/.\n",
    "\n"
   ]
  },
  {
   "cell_type": "markdown",
   "id": "d2d447b0",
   "metadata": {},
   "source": [
    "## 导入模块\n"
   ]
  },
  {
   "cell_type": "code",
   "execution_count": 1,
   "id": "initial_id",
   "metadata": {
    "ExecuteTime": {
     "start_time": "2024-03-29T14:08:06.601733700Z"
    },
    "collapsed": true
   },
   "outputs": [],
   "source": [
    "import cometspy as c\n",
    "import cobra\n",
    "from os.path import join\n",
    "import pandas as pd\n",
    "import matplotlib.pyplot as plt\n",
    "import numpy as np"
   ]
  },
  {
   "cell_type": "code",
   "execution_count": 2,
   "id": "326d35a4533be81e",
   "metadata": {
    "ExecuteTime": {
     "start_time": "2024-03-29T14:08:06.605733100Z"
    },
    "collapsed": false
   },
   "outputs": [
    {
     "name": "stdout",
     "output_type": "stream",
     "text": [
      "Set parameter Username\n",
      "Academic license - for non-commercial use only - expires 2025-04-02\n"
     ]
    },
    {
     "name": "stderr",
     "output_type": "stream",
     "text": [
      "/opt/homebrew/anaconda3/envs/cobra/lib/python3.12/site-packages/cometspy/model.py:623: FutureWarning: The behavior of DataFrame concatenation with empty or all-NA entries is deprecated. In a future version, this will no longer exclude empty or all-NA columns when determining the result dtypes. To retain the old behavior, exclude the relevant entries before the concat operation.\n",
      "  self.smat = pd.concat([self.smat, cdf])\n",
      "/opt/homebrew/anaconda3/envs/cobra/lib/python3.12/site-packages/cometspy/model.py:636: FutureWarning: Calling int on a single element Series is deprecated and will raise a TypeError in the future. Use int(ser.iloc[0]) instead\n",
      "  self.objective = [int(self.reactions[self.reactions.\n",
      "/opt/homebrew/anaconda3/envs/cobra/lib/python3.12/site-packages/cometspy/model.py:623: FutureWarning: The behavior of DataFrame concatenation with empty or all-NA entries is deprecated. In a future version, this will no longer exclude empty or all-NA columns when determining the result dtypes. To retain the old behavior, exclude the relevant entries before the concat operation.\n",
      "  self.smat = pd.concat([self.smat, cdf])\n",
      "/opt/homebrew/anaconda3/envs/cobra/lib/python3.12/site-packages/cometspy/model.py:636: FutureWarning: Calling int on a single element Series is deprecated and will raise a TypeError in the future. Use int(ser.iloc[0]) instead\n",
      "  self.objective = [int(self.reactions[self.reactions.\n"
     ]
    }
   ],
   "source": [
    "# 加载模型\n",
    "model_dir = \"model\"\n",
    "eco_model = cobra.io.load_json_model(join(model_dir, \"iML1515.json\"))\n",
    "ppu_model = cobra.io.load_json_model(join(model_dir, \"iJN1463.json\"))\n",
    "\n",
    "#去除交换反应边界\n",
    "for i in eco_model.reactions:\n",
    "    if 'EX_' in i.id:\n",
    "        i.lower_bound=-1000.0\n",
    "\n",
    "for i in ppu_model.reactions:\n",
    "    if 'EX_' in i.id:\n",
    "        i.lower_bound=-1000.0\n",
    "\n",
    "eco=c.model(eco_model)\n",
    "ppu=c.model(ppu_model)"
   ]
  },
  {
   "cell_type": "code",
   "execution_count": 3,
   "id": "7857853437681c91",
   "metadata": {
    "ExecuteTime": {
     "end_time": "2024-03-29T14:08:06.612733100Z",
     "start_time": "2024-03-29T14:08:06.609733500Z"
    },
    "collapsed": false
   },
   "outputs": [],
   "source": [
    "# 打开交换反应，以便外细胞代谢物浓度和米氏动力学控制吸收界限\n",
    "eco.open_exchanges()\n",
    "ppu.open_exchanges()\n",
    "\n",
    "eco.obj_style=\"MAX_OBJECTIVE_MIN_TOTAL\" # 默认的FBA选项是“最大化目标通量”\n",
    "ppu.obj_style=\"MAX_OBJECTIVE_MIN_TOTAL\""
   ]
  },
  {
   "cell_type": "code",
   "execution_count": 4,
   "id": "6682d229f8900c1d",
   "metadata": {
    "ExecuteTime": {
     "end_time": "2024-03-29T14:08:33.921507Z",
     "start_time": "2024-03-29T14:08:33.882507700Z"
    },
    "collapsed": false
   },
   "outputs": [],
   "source": [
    "#eco\n",
    "eco.change_bounds('EX_ca2_e',-1000,1000) \n",
    "eco.change_bounds('EX_cl_e',-1000,1000)\n",
    "eco.change_bounds('EX_h_e',-1000,1000) \n",
    "eco.change_bounds('EX_co2_e',-1000,1000) \n",
    "eco.change_bounds('EX_h2o_e',-1000,1000)\n",
    "eco.change_bounds('EX_k_e',-1000,1000) \n",
    "eco.change_bounds('EX_mg2_e',-1000,1000) \n",
    "eco.change_bounds('EX_na1_e',-1000,1000) \n",
    "eco.change_bounds('EX_o2_e',-1000,1000) \n",
    "eco.change_bounds('EX_so4_e',-1000,1000) \n",
    "eco.change_bounds('EX_nh4_e',-1000,1000) \n",
    "eco.change_bounds('EX_pi_e',-1000,1000) \n",
    "eco.change_bounds('EX_cobalt2_e',-1000,1000) \n",
    "eco.change_bounds('EX_malt_e',-10,1000) "
   ]
  },
  {
   "cell_type": "code",
   "execution_count": 5,
   "id": "4311b04879c55fa6",
   "metadata": {
    "ExecuteTime": {
     "end_time": "2024-03-29T14:08:34.436506800Z",
     "start_time": "2024-03-29T14:08:34.398504400Z"
    },
    "collapsed": false
   },
   "outputs": [
    {
     "name": "stdout",
     "output_type": "stream",
     "text": [
      "reaction couldnt be found\n"
     ]
    }
   ],
   "source": [
    "#ppu\n",
    "ppu.change_bounds('EX_ca2_e',-1000,1000) \n",
    "ppu.change_bounds('EX_cl_e',-1000,1000)\n",
    "ppu.change_bounds('EX_h_e',-1000,1000) \n",
    "ppu.change_bounds('EX_co2_e',-1000,1000) \n",
    "ppu.change_bounds('EX_h2o_e',-1000,1000)\n",
    "ppu.change_bounds('EX_k_e',-1000,1000) \n",
    "ppu.change_bounds('EX_mg2_e',-1000,1000) \n",
    "ppu.change_bounds('EX_na1_e',-1000,1000) \n",
    "ppu.change_bounds('EX_o2_e',-1000,1000) \n",
    "ppu.change_bounds('EX_so4_e',-1000,1000) \n",
    "ppu.change_bounds('EX_nh4_e',-1000,1000) \n",
    "ppu.change_bounds('EX_pi_e',-1000,1000) \n",
    "ppu.change_bounds('EX_cobalt2_e',-1000,1000) \n",
    "ppu.change_bounds('EX_malt_e',-10,1000) "
   ]
  },
  {
   "cell_type": "code",
   "execution_count": 6,
   "id": "60a8e94ea85a4cb4",
   "metadata": {
    "ExecuteTime": {
     "end_time": "2024-03-29T14:08:35.842513600Z",
     "start_time": "2024-03-29T14:08:35.100503300Z"
    },
    "collapsed": false
   },
   "outputs": [
    {
     "name": "stdout",
     "output_type": "stream",
     "text": [
      "building empty layout model\n",
      "models will need to be added with layout.add_model()\n"
     ]
    },
    {
     "name": "stderr",
     "output_type": "stream",
     "text": [
      "/opt/homebrew/anaconda3/envs/cobra/lib/python3.12/site-packages/cometspy/layout.py:1361: FutureWarning: The behavior of DataFrame concatenation with empty or all-NA entries is deprecated. In a future version, this will no longer exclude empty or all-NA columns when determining the result dtypes. To retain the old behavior, exclude the relevant entries before the concat operation.\n",
      "  self.media = pd.concat([self.media, new_row],\n"
     ]
    }
   ],
   "source": [
    "# 1-1混菌培养\n",
    "eco.initial_pop=[0,0,3.9e-7]\n",
    "ppu.initial_pop=[0,0,3.9e-7]\n",
    "\n",
    "test_tube_malt = c.layout()\n",
    "# 向试管布局中添加模型\n",
    "test_tube_malt.add_model(eco)\n",
    "test_tube_malt.add_model(ppu)"
   ]
  },
  {
   "cell_type": "code",
   "execution_count": 7,
   "id": "51e431596a31ae0f",
   "metadata": {
    "ExecuteTime": {
     "end_time": "2024-03-29T14:08:35.917509Z",
     "start_time": "2024-03-29T14:08:35.852511100Z"
    },
    "collapsed": false
   },
   "outputs": [
    {
     "name": "stdout",
     "output_type": "stream",
     "text": [
      "Warning: The added metabolite (ca2_c) is not able to be taken up by any of the current models\n",
      "Warning: The added metabolite (cl_c) is not able to be taken up by any of the current models\n",
      "Warning: The added metabolite (h_c) is not able to be taken up by any of the current models\n",
      "Warning: The added metabolite (co2_c) is not able to be taken up by any of the current models\n",
      "Warning: The added metabolite (h2o_c) is not able to be taken up by any of the current models\n",
      "Warning: The added metabolite (k_c) is not able to be taken up by any of the current models\n",
      "Warning: The added metabolite (mg2_c) is not able to be taken up by any of the current models\n",
      "Warning: The added metabolite (na1_c) is not able to be taken up by any of the current models\n",
      "Warning: The added metabolite (o2_c) is not able to be taken up by any of the current models\n",
      "Warning: The added metabolite (so4_c) is not able to be taken up by any of the current models\n",
      "Warning: The added metabolite (nh4_c) is not able to be taken up by any of the current models\n",
      "Warning: The added metabolite (pi_c) is not able to be taken up by any of the current models\n",
      "Warning: The added metabolite (cobalt2_c) is not able to be taken up by any of the current models\n",
      "Warning: The added metabolite (malt_c) is not able to be taken up by any of the current models\n"
     ]
    }
   ],
   "source": [
    "# 麦芽糖底物设置\n",
    "test_tube_malt.set_specific_metabolite('ca2_c', 1000) \n",
    "test_tube_malt.set_specific_metabolite('cl_c', 1000) \n",
    "test_tube_malt.set_specific_metabolite('h_c', 1000) \n",
    "test_tube_malt.set_specific_metabolite('co2_c', 1000) \n",
    "test_tube_malt.set_specific_metabolite('h2o_c', 1000) \n",
    "test_tube_malt.set_specific_metabolite('k_c', 1000) \n",
    "test_tube_malt.set_specific_metabolite('mg2_c', 1000) \n",
    "test_tube_malt.set_specific_metabolite('na1_c', 1000) \n",
    "test_tube_malt.set_specific_metabolite('o2_c', 1000) \n",
    "test_tube_malt.set_specific_metabolite('so4_c', 1000)\n",
    "test_tube_malt.set_specific_metabolite('nh4_c', 1000) \n",
    "test_tube_malt.set_specific_metabolite('pi_c', 1000) \n",
    "test_tube_malt.set_specific_metabolite('cobalt2_c', 1000) \n",
    "test_tube_malt.set_specific_metabolite('malt_c', 5.00) "
   ]
  },
  {
   "cell_type": "code",
   "execution_count": 8,
   "id": "ec3f2fa8",
   "metadata": {},
   "outputs": [],
   "source": [
    "import os\n",
    "os.environ['GUROBI_HOME'] = '/Library/gurobi1000/macos_universal2/'\n",
    "#os.environ['COMETS_HOME'] = '/Users/gaoch/GitHub/comets/comets_simplified'\n",
    "os.environ['COMETS_HOME'] = '/Users/gaoch/Downloads/comets_2.10.5_linux'\n"
   ]
  },
  {
   "cell_type": "code",
   "execution_count": 9,
   "id": "c70f1ad2f3ea13d4",
   "metadata": {
    "ExecuteTime": {
     "end_time": "2024-03-29T14:09:00.503344200Z",
     "start_time": "2024-03-29T14:08:58.250346700Z"
    },
    "collapsed": false
   },
   "outputs": [
    {
     "name": "stdout",
     "output_type": "stream",
     "text": [
      "\n",
      "Running COMETS simulation ...\n",
      "Error: COMETS simulation did not complete\n",
      "\n",
      "     examine comets.run_output for the full java trace\n",
      "\n",
      "     if we detect a common reason, it will be stated in the RuntimeError at the bottom\n"
     ]
    },
    {
     "ename": "RuntimeError",
     "evalue": "COMETS simulation did not complete:\n undetected reason. examine comets.run_output for JAVA trace",
     "output_type": "error",
     "traceback": [
      "\u001b[0;31m---------------------------------------------------------------------------\u001b[0m",
      "\u001b[0;31mRuntimeError\u001b[0m                              Traceback (most recent call last)",
      "Cell \u001b[0;32mIn[9], line 26\u001b[0m\n\u001b[1;32m     20\u001b[0m \u001b[38;5;66;03m# 运行模拟\u001b[39;00m\n\u001b[1;32m     21\u001b[0m \u001b[38;5;66;03m#sim = c.comets(test_tube_malt, comp_params)\u001b[39;00m\n\u001b[1;32m     22\u001b[0m \u001b[38;5;66;03m#sim.run()\u001b[39;00m\n\u001b[1;32m     23\u001b[0m \u001b[38;5;66;03m#one_cell=3.9e-13 # gram dry weight of a cell\u001b[39;00m\n\u001b[1;32m     25\u001b[0m comp_assay\u001b[38;5;241m=\u001b[39mc\u001b[38;5;241m.\u001b[39mcomets(test_tube_malt, comp_params)\n\u001b[0;32m---> 26\u001b[0m \u001b[43mcomp_assay\u001b[49m\u001b[38;5;241;43m.\u001b[39;49m\u001b[43mrun\u001b[49m\u001b[43m(\u001b[49m\u001b[43m)\u001b[49m\n",
      "File \u001b[0;32m/opt/homebrew/anaconda3/envs/cobra/lib/python3.12/site-packages/cometspy/comets.py:400\u001b[0m, in \u001b[0;36mcomets.run\u001b[0;34m(self, delete_files)\u001b[0m\n\u001b[1;32m    397\u001b[0m     \u001b[38;5;28mself\u001b[39m\u001b[38;5;241m.\u001b[39mrun_errors \u001b[38;5;241m=\u001b[39m \u001b[38;5;124m\"\u001b[39m\u001b[38;5;124mSTDERR empty.\u001b[39m\u001b[38;5;124m\"\u001b[39m\n\u001b[1;32m    399\u001b[0m \u001b[38;5;66;03m# Raise RuntimeError if simulation had nonzero exit\u001b[39;00m\n\u001b[0;32m--> 400\u001b[0m \u001b[38;5;28;43mself\u001b[39;49m\u001b[38;5;241;43m.\u001b[39;49m\u001b[43m__analyze_run_output\u001b[49m\u001b[43m(\u001b[49m\u001b[43m)\u001b[49m\n\u001b[1;32m    402\u001b[0m \u001b[38;5;66;03m# '''----------- READ OUTPUT ---------------------------------------'''\u001b[39;00m\n\u001b[1;32m    403\u001b[0m \u001b[38;5;66;03m# Read total biomass output\u001b[39;00m\n\u001b[1;32m    404\u001b[0m \u001b[38;5;28;01mif\u001b[39;00m \u001b[38;5;28mself\u001b[39m\u001b[38;5;241m.\u001b[39mparameters\u001b[38;5;241m.\u001b[39mall_params[\u001b[38;5;124m'\u001b[39m\u001b[38;5;124mwriteTotalBiomassLog\u001b[39m\u001b[38;5;124m'\u001b[39m]:\n",
      "File \u001b[0;32m/opt/homebrew/anaconda3/envs/cobra/lib/python3.12/site-packages/cometspy/comets.py:568\u001b[0m, in \u001b[0;36mcomets.__analyze_run_output\u001b[0;34m(self)\u001b[0m\n\u001b[1;32m    565\u001b[0m     \u001b[38;5;28;01mraise\u001b[39;00m \u001b[38;5;167;01mRuntimeError\u001b[39;00m(\u001b[38;5;124mf\u001b[39m\u001b[38;5;124m\"\u001b[39m\u001b[38;5;124mCOMETS simulation did not complete:\u001b[39m\u001b[38;5;130;01m\\n\u001b[39;00m\u001b[38;5;124m \u001b[39m\u001b[38;5;132;01m{\u001b[39;00mmessage\u001b[38;5;132;01m}\u001b[39;00m\u001b[38;5;124m\"\u001b[39m)\n\u001b[1;32m    567\u001b[0m message \u001b[38;5;241m=\u001b[39m \u001b[38;5;124m\"\u001b[39m\u001b[38;5;124mundetected reason. examine comets.run_output for JAVA trace\u001b[39m\u001b[38;5;124m\"\u001b[39m\n\u001b[0;32m--> 568\u001b[0m \u001b[38;5;28;01mraise\u001b[39;00m \u001b[38;5;167;01mRuntimeError\u001b[39;00m(\u001b[38;5;124mf\u001b[39m\u001b[38;5;124m\"\u001b[39m\u001b[38;5;124mCOMETS simulation did not complete:\u001b[39m\u001b[38;5;130;01m\\n\u001b[39;00m\u001b[38;5;124m \u001b[39m\u001b[38;5;132;01m{\u001b[39;00mmessage\u001b[38;5;132;01m}\u001b[39;00m\u001b[38;5;124m\"\u001b[39m)\n",
      "\u001b[0;31mRuntimeError\u001b[0m: COMETS simulation did not complete:\n undetected reason. examine comets.run_output for JAVA trace"
     ]
    }
   ],
   "source": [
    "# 创建并设置COMETS参数\n",
    "comp_params = c.params()\n",
    "comp_params.set_param('defaultVmax', 10)  # 默认最大反应速率\n",
    "comp_params.set_param('defaultKm', 0.01)  # 默认米氏常数\n",
    "comp_params.set_param('exchangestyle', 'Monod Style')  # 交换风格为Monod模型\n",
    "comp_params.set_param('defaultHill', 1)  # 默认希尔系数\n",
    "\n",
    "# 设置日志记录参数\n",
    "comp_params.set_param('writeMediaLog', True)  # 是否写入培养基日志\n",
    "comp_params.set_param('writeFluxLog', True)  # 是否写入通量日志\n",
    "comp_params.set_param('MediaLogRate', 1)  # 培养基日志记录频率\n",
    "comp_params.set_param('FluxLogRate', 1)  # 通量日志记录频率\n",
    "comp_params.set_param('writeTotalBiomassLog', True)  # 是否写入总生物量日志\n",
    "comp_params.set_param('writeBiomassLog', True)  # 是否写入生物量日志\n",
    "comp_params.set_param('totalBiomassLogRate', 1)  # 总生物量日志记录频率\n",
    "comp_params.set_param('BiomassLogRate', 1)  # 生物量日志记录频率\n",
    "comp_params.set_param(\"writeSpecificMediaLog\", True)  # 是否写入特定培养基日志\n",
    "comp_params.set_param(\"specificMediaLogRate\", 1)  # 特定培养基日志记录频率\n",
    "comp_params.set_param(\"specificMedia\", \"cpd00027_e0\")  # 特定培养基的化合物ID\n",
    "# 运行模拟\n",
    "#sim = c.comets(test_tube_malt, comp_params)\n",
    "#sim.run()\n",
    "#one_cell=3.9e-13 # gram dry weight of a cell\n",
    "\n",
    "comp_assay=c.comets(test_tube_malt, comp_params)\n",
    "comp_assay.run()\n",
    "\n"
   ]
  },
  {
   "cell_type": "code",
   "execution_count": 10,
   "id": "07a2a237",
   "metadata": {},
   "outputs": [
    {
     "name": "stdout",
     "output_type": "stream",
     "text": [
      "-script\n",
      "running script file: /Users/gaoch/GitHub/merge_model/.current_script_0x17a28c410\n",
      "Current Java version: 1.8.0_401\n",
      "Parameters file .current_global_0x17a28c410 loaded.\n",
      "Parameters file .current_package_0x17a28c410 loaded.\n",
      "Loading layout file '.current_layout_0x17a28c410'...\n",
      "null/COMETS_manifest.txt (No such file or directory)\n",
      "Unable to initialize manifest file. \n",
      "Continuing without writing manifest file.\n",
      "Found 2 model files!\n",
      "Loading './iML1515.cmd' ...\n",
      "Set parameter Username\n",
      "Academic license - for non-commercial use only - expires 2025-04-02\n",
      "Set parameter Username\n",
      "Academic license - for non-commercial use only - expires 2025-04-02\n",
      "Done!\n",
      " Testing default parameters...\n",
      "Done!\n",
      "Optimizer status code = 5 (looks ok!)\n",
      "objective solution = 74.895719394727\n",
      "Loading './iJN1463.cmd' ...\n",
      "Set parameter Username\n",
      "Academic license - for non-commercial use only - expires 2025-04-02\n",
      "Set parameter Username\n",
      "Academic license - for non-commercial use only - expires 2025-04-02\n",
      "Done!\n",
      " Testing default parameters...\n",
      "Done!\n",
      "Optimizer status code = 5 (looks ok!)\n",
      "objective solution = 237.06607191111175\n",
      "Constructing world...\n",
      "Done!\n",
      "medialist\t12dgr160_e\t12dgr180_e\t12ppd__R_e\t12ppd__S_e\t13dampp_e\t14glucan_e\t15dap_e\t1ag160_e\t1ag180_e\t1ag181d9_e\t1ag182d9d12_e\t23camp_e\t23ccmp_e\t23cgmp_e\t23cump_e\t23dappa_e\t25dkglcn_e\t26dap__M_e\t2ameph_e\t2ddglcn_e\t2dglc_e\t2dhglcn_e\t2m35mdntha_e\t34dhbz_e\t34dhcinm_e\t34dhpac_e\t34dhphe_e\t35dnta_e\t3amp_e\t3cmp_e\t3gmp_e\t3h4atb_e\t3hcinnm_e\t3hpp_e\t3hpppn_e\t3mb_e\t3oxoadp_e\t3ump_e\t4abut_e\t4abzglu_e\t4hbz_e\t4hoxpacd_e\t4hpro_DC_e\t4hpro_LT_e\t4hptn_e\t4oxptn_e\t5aptn_e\t5dglcn_e\t5g2oxpt_e\t5mcsn_e\t5mtr_e\t5oxpro_e\t6atha_e\t6hnac_e\tLalaDgluMdapDala_e\tLalaDgluMdap_e\tLalaDglu_e\tLalaLglu_e\tNcbmpts_e\tPHAg_c\tR3hdec4e_e\tR_3h4atba_e\tR_3h6atha_e\tR_3hcmrs7e_e\tR_3hdcaa_e\tR_3hdd5ea_e\tR_3hdd6e_e\tR_3hdda_e\tR_3hhdca_e\tR_3hhpa_e\tR_3hhxa_e\tR_3hnonaa_e\tR_3hocta_e\tR_3hpba_e\tR_3hpdeca_e\tR_3hphpa_e\tR_3hphxa_e\tR_3hpnona_e\tR_3hpocta_e\tR_3hppta_e\tR_3hpt_e\tR_3htd58e_e\tR_3htd5e_e\tR_3httdca_e\tT4hcinnm_e\tac_e\tacac_e\tacald_e\tacgal1p_e\tacgal_e\tacgam1p_e\tacgam_e\tacmana_e\tacmtsoxin_e\tacmum_e\tacnam_e\tacon_C_e\tacpptrn_e\tacser_e\tactn__R_e\tade_e\tadn_e\tadocbl_e\tag_e\tagm_e\takg_e\tala_B_e\tala__D_e\tala__L_e\talaala_e\talahis_e\talaleu_e\talathr_e\talatrp_e\talgac_MG_14_e\talgac_MG_23_e\talgac_MG_32_e\talgac_MG_41_e\talgac__M_e\tall__D_e\talltn_e\tamp_e\tanhgm_e\tapc_e\tarab__L_e\tarbt_e\tarbtn_e\tarbtn_fe3_e\targ__D_e\targ__L_e\tascb__L_e\tasn__D_e\tasn__L_e\taso3_e\taso4_e\tasp__L_e\tbalaala_e\tbalabala_e\tbalagly_e\tbalaleu_e\tbalamd_e\tbhb_e\tbiliverd_e\tbtd_RR_e\tbtn_e\tbut_e\tbutso3_e\tbz_e\tca2_c\tca2_e\tcarn_e\tcatechol_e\tcbi_e\tcbl1_e\tcd2_e\tcell4_e\tcellb_e\tcgly_e\tch4_e\tchol_e\tchols_e\tchor_e\tchtbs_e\tcinnm_e\tcit_e\tcl_c\tcl_e\tcm_e\tcmcbtt_e\tcmp_e\tco2_c\tco2_e\tco_e\tcobalt2_c\tcobalt2_e\tconfrl_e\tcpgn_e\tcpgn_un_e\tcreat_e\tcrn__D_e\tcrn_e\tcro2_e\tcro4_e\tcrtn_e\tcs1_e\tcsn_e\tcu2_e\tcu_e\tcyan_e\tcynt_e\tcys__D_e\tcys__L_e\tcytd_e\td2one_e\td3one_e\td4one_e\tdad_2_e\tdag181d9_e\tdag182d9d12_e\tdamp_e\tdca_e\tdcmp_e\tdcyt_e\tddca_e\tdgmp_e\tdgsn_e\tdgudbutn_e\tdha_e\tdhps_e\tdimp_e\tdin_e\tdmanur_e\tdmgly_e\tdms_e\tdmso2_e\tdmso_e\tdopa_e\tdoxrbcn_e\tdtmp_e\tdump_e\tduri_e\tdxylnt_e\teca4colipa_e\tecto__L_e\tenlipa_e\tenter_e\tetha_e\tethso3_e\tetoh_e\tf6p_e\tfad_e\tfald_e\tfcmcbtt_e\tfe2_e\tfe3_e\tfe3dcit_e\tfe3dhbzs_e\tfe3hox_e\tfe3hox_un_e\tfe3mcbtt_e\tfe3pyovd_e\tfe3pyovd_kt_e\tfecrm_e\tfecrm_un_e\tfeenter_e\tfeoxam_e\tfeoxam_un_e\tfer_e\tfmn_e\tfor_e\tfru_e\tfrulys_e\tfruur_e\tfuc__L_e\tfum_e\tfusa_e\tg1p_e\tg3pc_e\tg3pe_e\tg3pg_e\tg3pi_e\tg3ps_e\tg6p_e\tga_e\tgal1p_e\tgal_bD_e\tgal_e\tgalct__D_e\tgalctn__D_e\tgalctn__L_e\tgalt_e\tgalur_e\tgam6p_e\tgam_e\tgbbtn_e\tgdp_e\tglc__D_e\tglcn_e\tglcr_e\tglcur1p_e\tglcur_e\tgln__L_e\tglu__L_e\tglutar_e\tgly_e\tglyald_e\tglyb_e\tglyc2p_e\tglyc3p_e\tglyc__R_e\tglyc_e\tglyclt_e\tglycol_e\tglygln_e\tglyglu_e\tglygly_e\tglymet_e\tglyphe_e\tglyser_e\tgmp_e\tgsn_e\tgthox_e\tgthrd_e\tgtp_e\tgua_e\tgudac_e\tgudptn_e\th2_e\th2o2_e\th2o_c\th2o_e\th2s_e\th_c\th_e\thacolipa_e\thalipa_e\thco3_e\thcys__L_e\thdca_e\thdcea_e\thg2_e\thgentis_e\this__L_e\thisgly_e\thishis_e\thom__L_e\thpta_e\thxa_e\thxan_e\ticit_e\tidon__L_e\tile__L_e\timp_e\tind3ac_e\tindole_e\tinost_e\tins_e\tisetac_e\tk_c\tk_e\tlac__D_e\tlac__L_e\tlcts_e\tleu__D_e\tleu__L_e\tleuleu_e\tlipoate_e\tlnlc_e\tlpspput_e\tlys__D_e\tlys__L_e\tlyx__L_e\tm_xyl_e\tmal__D_e\tmal__L_e\tmalt_c\tmalt_e\tmalthx_e\tmaltpt_e\tmalttr_e\tmaltttr_e\tman6p_e\tman_e\tmanglyc_e\tmanur_e\tmcbtt_e\tmelib_e\tmeoh_e\tmepn_e\tmet__D_e\tmet__L_e\tmetglcur_e\tmetsox_R__L_e\tmetsox_S__L_e\tmg2_c\tmg2_e\tmincyc_e\tminohp_e\tmmet_e\tmn2_e\tmnl_e\tmobd_e\tmso3_e\tmththf_e\tmtsoxin_e\tn2o_e\tn2one_e\tna1_c\tna1_e\tnac_e\tnh4_c\tnh4_e\tni2_e\tnmn_e\tno2_e\tno3_e\tno_e\tnona_e\tnovbcn_e\to2_c\to2_e\to2s_e\to_xyl_e\toaa_e\tocdca_e\tocdcea_e\tocta_e\torn__D_e\torn_e\torot_e\toxa_e\tp_xyl_e\tpac_e\tpacald_e\tpb2_e\tpea_e\tpeamn_e\tpentso3_e\tphe__D_e\tphe__L_e\tphedca_e\tphehpa_e\tphehxa_e\tpheme_e\tphenona_e\tpheocta_e\tphept_e\tphpyr_e\tpi_c\tpi_e\tpnto__R_e\tppa_e\tppal_e\tppi_e\tpppn_e\tppt_e\tpptrn_e\tpqqA_kt_c\tprealg_MG_14_e\tprealg_MG_23_e\tprealg_MG_32_e\tprealg_MG_41_e\tprealginate_G_e\tpro__D_e\tpro__L_e\tprogly_e\tpsclys_e\tpser__L_e\tpta_e\tptrc_e\tptsla_e\tpydam_e\tpydx_e\tpydxn_e\tpyovd_e\tpyovd_kt_e\tpyr_e\tquin_e\tr5p_e\trfamp_e\trib__D_e\trmn_e\tsbo3_e\tsbt__D_e\tsel_e\tser__D_e\tser__L_e\tsheme_e\tskm_e\tslnt_e\tso2_e\tso3_e\tso4_c\tso4_e\tspmd_e\tsq_e\tsucc_e\tsucr_e\tsulfac_e\ttag160_e\ttag180_e\ttag181d9_e\ttag182d9d12_e\ttartr__D_e\ttartr__L_e\ttaur_e\ttcynt_e\tthm_e\tthr__L_e\tthrp_e\tthym_e\tthymd_e\ttma_e\ttmanur_e\ttmao_e\ttnt_e\ttol_e\ttre_e\ttrp__L_e\ttsul_e\tttdca_e\tttdcea_e\tttrcyc_e\ttungs_e\ttym_e\ttyr__D_e\ttyr__L_e\ttyrp_e\tuacgam_e\tudpacgal_e\tudpg_e\tudpgal_e\tudpglcur_e\tump_e\tund2one_e\tura_e\turate_e\turea_e\turi_e\tvacc_e\tval__D_e\tval__L_e\tvanln_e\tvanlt_e\txan_e\txmp_e\txtsn_e\txyl__D_e\txylu__L_e\tzn2_e\n",
      "Exception in thread \"Thread-0\" java.lang.Error: \n",
      "specificMedia was not well-formed in parameters file.\n",
      "specificMedia must be a comma-separated list of extracellular\n",
      "metabolites which are present in the layout.\n",
      "For example, if using the E. coli ijo model, a\n",
      "well-formed parameter could be:\n",
      "specificMedia=lcts[e],ac[e],glc-D[e]\n",
      "\n",
      "\n",
      "\tat edu.bu.segrelab.comets.fba.FBAWorld.initSimulation(FBAWorld.java:414)\n",
      "\tat edu.bu.segrelab.comets.CometsSimRunner.run(CometsSimRunner.java:68)\n",
      "\n"
     ]
    }
   ],
   "source": [
    "print(comp_assay.run_output)"
   ]
  },
  {
   "cell_type": "code",
   "execution_count": 12,
   "id": "6bfb49eee3074795",
   "metadata": {
    "ExecuteTime": {
     "start_time": "2024-03-29T14:08:06.622733500Z"
    },
    "collapsed": false
   },
   "outputs": [
    {
     "ename": "AttributeError",
     "evalue": "'comets' object has no attribute 'get_biomass_data'",
     "output_type": "error",
     "traceback": [
      "\u001b[0;31m---------------------------------------------------------------------------\u001b[0m",
      "\u001b[0;31mAttributeError\u001b[0m                            Traceback (most recent call last)",
      "Cell \u001b[0;32mIn[12], line 2\u001b[0m\n\u001b[1;32m      1\u001b[0m \u001b[38;5;66;03m# 获取并分析结果\u001b[39;00m\n\u001b[0;32m----> 2\u001b[0m biomass_data \u001b[38;5;241m=\u001b[39m \u001b[43mcomp_assay\u001b[49m\u001b[38;5;241;43m.\u001b[39;49m\u001b[43mget_biomass_data\u001b[49m()\n\u001b[1;32m      3\u001b[0m flux_data \u001b[38;5;241m=\u001b[39m comp_assay\u001b[38;5;241m.\u001b[39mget_flux_data()\n",
      "\u001b[0;31mAttributeError\u001b[0m: 'comets' object has no attribute 'get_biomass_data'"
     ]
    }
   ],
   "source": [
    "# 获取并分析结果\n",
    "biomass_data = comp_assay.get_biomass_data()\n",
    "flux_data = comp_assay.get_flux_data()"
   ]
  },
  {
   "cell_type": "code",
   "execution_count": null,
   "id": "c8437bfb713b1ad5",
   "metadata": {
    "ExecuteTime": {
     "start_time": "2024-03-29T14:08:06.624733300Z"
    },
    "collapsed": false
   },
   "outputs": [],
   "source": []
  }
 ],
 "metadata": {
  "kernelspec": {
   "display_name": "Python 3",
   "language": "python",
   "name": "python3"
  },
  "language_info": {
   "codemirror_mode": {
    "name": "ipython",
    "version": 3
   },
   "file_extension": ".py",
   "mimetype": "text/x-python",
   "name": "python",
   "nbconvert_exporter": "python",
   "pygments_lexer": "ipython3",
   "version": "3.12.2"
  }
 },
 "nbformat": 4,
 "nbformat_minor": 5
}
